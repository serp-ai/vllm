{
 "cells": [
  {
   "cell_type": "code",
   "execution_count": null,
   "metadata": {},
   "outputs": [],
   "source": [
    "import requests\n",
    "from typing import Dict, Optional, List\n",
    "\n",
    "\n",
    "def post_http_request(prompt: str,\n",
    "                      api_url: str = \"http://127.0.0.1:8000/generate\",\n",
    "                      n: int = 1,\n",
    "                      use_beam_search: bool = False,\n",
    "                      temperature: float = 0.9,\n",
    "                      top_p: float = 1.0,\n",
    "                      top_k: int = 50,\n",
    "                      max_tokens: int = 4096,\n",
    "                      frequency_penalty: float = 0.0,\n",
    "                      presence_penalty: float = 0.0,\n",
    "                      length_penalty: float = 1.0,\n",
    "                      repetition_penalty: float = 1.0,\n",
    "                      best_of: int = 1,\n",
    "                      logprobs: Optional[int] = None,\n",
    "                      prompt_logprobs: Optional[int] = None,\n",
    "                      skip_special_tokens: bool = True,\n",
    "                      spaces_between_special_tokens: bool = True,\n",
    "                      include_stop_str_in_output: bool = False,\n",
    "                      ignore_eos: bool = False,\n",
    "                      stop_token_ids: Optional[List[int]] = None,\n",
    "                      early_stopping: bool = False,\n",
    "                      stop: Optional[List[str]] = None,\n",
    "                      logit_bias: Optional[Dict[int, float]] = None,\n",
    "                      stream: bool = False) -> requests.Response:\n",
    "    headers = {\"User-Agent\": \"Test Client\"}\n",
    "    pload = {\n",
    "        \"prompt\": prompt,\n",
    "        \"n\": n,\n",
    "        \"use_beam_search\": use_beam_search,\n",
    "        \"temperature\": temperature,\n",
    "        \"top_p\": top_p,\n",
    "        \"top_k\": top_k,\n",
    "        \"max_tokens\": max_tokens,\n",
    "        \"logit_bias\": logit_bias,\n",
    "        \"frequency_penalty\": frequency_penalty,\n",
    "        \"presence_penalty\": presence_penalty,\n",
    "        \"length_penalty\": length_penalty,\n",
    "        \"repetition_penalty\": repetition_penalty,\n",
    "        \"best_of\": best_of,\n",
    "        \"logprobs\": logprobs,\n",
    "        \"prompt_logprobs\": prompt_logprobs,\n",
    "        \"skip_special_tokens\": skip_special_tokens,\n",
    "        \"spaces_between_special_tokens\": spaces_between_special_tokens,\n",
    "        \"include_stop_str_in_output\": include_stop_str_in_output,\n",
    "        \"ignore_eos\": ignore_eos,\n",
    "        \"stop_token_ids\": stop_token_ids,\n",
    "        \"early_stopping\": early_stopping,\n",
    "        \"stop\": stop,\n",
    "        \"stream\": stream,\n",
    "    }\n",
    "    response = requests.post(api_url, headers=headers, json=pload, stream=True)\n",
    "    return response"
   ]
  },
  {
   "cell_type": "code",
   "execution_count": null,
   "metadata": {},
   "outputs": [],
   "source": [
    "def construct_prompt(system=\"\", user=\"\"):\n",
    "    prompt = f\"### System:\\n{system}\\n### Human:\\n{user}\\n### Assistant:\\n\"\n",
    "    return prompt"
   ]
  },
  {
   "cell_type": "code",
   "execution_count": null,
   "metadata": {},
   "outputs": [],
   "source": [
    "import transformers\n",
    "tokenizer = transformers.AutoTokenizer.from_pretrained(\"serpdotai/sparsetral-16x7B-v1\")"
   ]
  },
  {
   "cell_type": "code",
   "execution_count": null,
   "metadata": {},
   "outputs": [],
   "source": [
    "system = \"You are a helpful assistant who will help the user to the best of their ability. If you don't know something, say \\\"I don't know\\\"\"\n",
    "user = \"How are you?\"\n",
    "prompt = construct_prompt(system, user)\n",
    "response = post_http_request(prompt)\n",
    "print(response.json()[\"text\"][0][len(prompt):])"
   ]
  }
 ],
 "metadata": {
  "kernelspec": {
   "display_name": "Python 3",
   "language": "python",
   "name": "python3"
  },
  "language_info": {
   "codemirror_mode": {
    "name": "ipython",
    "version": 3
   },
   "file_extension": ".py",
   "mimetype": "text/x-python",
   "name": "python",
   "nbconvert_exporter": "python",
   "pygments_lexer": "ipython3",
   "version": "3.10.8"
  }
 },
 "nbformat": 4,
 "nbformat_minor": 2
}
